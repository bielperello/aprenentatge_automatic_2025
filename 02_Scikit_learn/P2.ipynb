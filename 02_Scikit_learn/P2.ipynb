{
 "cells": [
  {
   "metadata": {},
   "cell_type": "markdown",
   "source": [
    "# Pràctica II - Perceptron amb Scikit-learn\n",
    "\n",
    "En la sessió anterior hem implementat i entrenat un perceptró des de zero, analitzant pas a pas el seu funcionament intern. Ara, donarem un pas més i treballarem amb la implementació ja disponible a la llibreria scikit-learn, que ens permetrà concentrar-nos en el procés d’aplicació del model a un conjunt de dades real.\n",
    "\n",
    "Per tal d’il·lustrar-ho, farem servir el problema del Titanic, que ja coneixeu del curs anterior. L’objectiu és predir si un passatger va sobreviure o no al naufragi a partir d’algunes de les seves característiques (edat, sexe, classe del bitllet, etc.).\n",
    "\n",
    "Tasques a realitzar\n",
    "\n",
    "1. Carregar i preparar les dades\n",
    "   - Importar el conjunt de dades del Titanic.\n",
    "   - Seleccionar les variables més rellevants i realitzar els preprocessaments necessaris (tractament de valors NaNs, codificació de variables categòriques i normalització).\n",
    "   - Dividir les dades en conjunts d’entrenament i validació.\n",
    "\n",
    "2. Definir i entrenar el model\n",
    "   - Utilitzar la classe Perceptron de ``sklearn.linear_model``.\n",
    "   - Ajustar el model amb les dades d’entrenament.\n",
    "   - Utilitzar el perceptró implementat la sessió anterior per comparar resultats.\n",
    "\n",
    "3. Avaluar el rendiment\n",
    "   - Calcular la *accuracy* sobre les dades de validació.\n",
    "   - Analitzar la matriu de confusió per entendre millor els encerts i errors del model.\n",
    "   - Comparar els resultats de ``scikit-learn`` amb la vostra implementació prèvia."
   ],
   "id": "15bb3b11a2648c42"
  },
  {
   "metadata": {
    "ExecuteTime": {
     "end_time": "2025-09-24T09:52:25.591232Z",
     "start_time": "2025-09-24T09:52:25.580914Z"
    }
   },
   "cell_type": "code",
   "source": [
    "import pandas as pd\n",
    "import numpy as np\n",
    "from sklearn.metrics import accuracy_score\n",
    "from sklearn.preprocessing import StandardScaler\n",
    "from sklearn.model_selection import train_test_split\n",
    "from sklearn.linear_model import Perceptron\n",
    "from PerceptronP import PerceptronP"
   ],
   "id": "f77ef88d2fbacc18",
   "outputs": [],
   "execution_count": 32
  },
  {
   "metadata": {},
   "cell_type": "markdown",
   "source": "Podeu trobar les dades del Titanic a [Kaggle](https://www.kaggle.com/competitions/titanic/overview).",
   "id": "55c2819c1c86f7c0"
  },
  {
   "metadata": {
    "ExecuteTime": {
     "end_time": "2025-09-24T09:51:43.333221Z",
     "start_time": "2025-09-24T09:51:43.316435Z"
    }
   },
   "cell_type": "code",
   "source": "df = pd.read_csv('train.csv')",
   "id": "45f95cc6b75bccce",
   "outputs": [],
   "execution_count": 28
  },
  {
   "metadata": {},
   "cell_type": "markdown",
   "source": [
    "## Neteja de dades\n",
    "\n",
    "### Codificació de variables categòriques\n",
    "\n",
    "Farem servir la codificació *one-hot* per a les variables categòriques, ``pandas`` té una funció que ens ho facilita: ``get_dummies()``."
   ],
   "id": "3cbf8201ac2a8318"
  },
  {
   "metadata": {
    "ExecuteTime": {
     "end_time": "2025-09-24T09:01:44.800952Z",
     "start_time": "2025-09-24T09:01:44.773808Z"
    }
   },
   "cell_type": "code",
   "source": [
    "categoricals = ['Sex', 'Embarked', 'Pclass']\n",
    "\n",
    "df = pd.get_dummies(df, columns=categoricals)"
   ],
   "id": "1653770b3a2cd691",
   "outputs": [
    {
     "data": {
      "text/plain": [
       "   PassengerId  Survived                                               Name  \\\n",
       "0            1         0                            Braund, Mr. Owen Harris   \n",
       "1            2         1  Cumings, Mrs. John Bradley (Florence Briggs Th...   \n",
       "2            3         1                             Heikkinen, Miss. Laina   \n",
       "3            4         1       Futrelle, Mrs. Jacques Heath (Lily May Peel)   \n",
       "4            5         0                           Allen, Mr. William Henry   \n",
       "\n",
       "    Age  SibSp  Parch            Ticket     Fare Cabin  Sex_female  Sex_male  \\\n",
       "0  22.0      1      0         A/5 21171   7.2500   NaN       False      True   \n",
       "1  38.0      1      0          PC 17599  71.2833   C85        True     False   \n",
       "2  26.0      0      0  STON/O2. 3101282   7.9250   NaN        True     False   \n",
       "3  35.0      1      0            113803  53.1000  C123        True     False   \n",
       "4  35.0      0      0            373450   8.0500   NaN       False      True   \n",
       "\n",
       "   Embarked_C  Embarked_Q  Embarked_S  Pclass_1  Pclass_2  Pclass_3  \n",
       "0       False       False        True     False     False      True  \n",
       "1        True       False       False      True     False     False  \n",
       "2       False       False        True     False     False      True  \n",
       "3       False       False        True      True     False     False  \n",
       "4       False       False        True     False     False      True  "
      ],
      "text/html": [
       "<div>\n",
       "<style scoped>\n",
       "    .dataframe tbody tr th:only-of-type {\n",
       "        vertical-align: middle;\n",
       "    }\n",
       "\n",
       "    .dataframe tbody tr th {\n",
       "        vertical-align: top;\n",
       "    }\n",
       "\n",
       "    .dataframe thead th {\n",
       "        text-align: right;\n",
       "    }\n",
       "</style>\n",
       "<table border=\"1\" class=\"dataframe\">\n",
       "  <thead>\n",
       "    <tr style=\"text-align: right;\">\n",
       "      <th></th>\n",
       "      <th>PassengerId</th>\n",
       "      <th>Survived</th>\n",
       "      <th>Name</th>\n",
       "      <th>Age</th>\n",
       "      <th>SibSp</th>\n",
       "      <th>Parch</th>\n",
       "      <th>Ticket</th>\n",
       "      <th>Fare</th>\n",
       "      <th>Cabin</th>\n",
       "      <th>Sex_female</th>\n",
       "      <th>Sex_male</th>\n",
       "      <th>Embarked_C</th>\n",
       "      <th>Embarked_Q</th>\n",
       "      <th>Embarked_S</th>\n",
       "      <th>Pclass_1</th>\n",
       "      <th>Pclass_2</th>\n",
       "      <th>Pclass_3</th>\n",
       "    </tr>\n",
       "  </thead>\n",
       "  <tbody>\n",
       "    <tr>\n",
       "      <th>0</th>\n",
       "      <td>1</td>\n",
       "      <td>0</td>\n",
       "      <td>Braund, Mr. Owen Harris</td>\n",
       "      <td>22.0</td>\n",
       "      <td>1</td>\n",
       "      <td>0</td>\n",
       "      <td>A/5 21171</td>\n",
       "      <td>7.2500</td>\n",
       "      <td>NaN</td>\n",
       "      <td>False</td>\n",
       "      <td>True</td>\n",
       "      <td>False</td>\n",
       "      <td>False</td>\n",
       "      <td>True</td>\n",
       "      <td>False</td>\n",
       "      <td>False</td>\n",
       "      <td>True</td>\n",
       "    </tr>\n",
       "    <tr>\n",
       "      <th>1</th>\n",
       "      <td>2</td>\n",
       "      <td>1</td>\n",
       "      <td>Cumings, Mrs. John Bradley (Florence Briggs Th...</td>\n",
       "      <td>38.0</td>\n",
       "      <td>1</td>\n",
       "      <td>0</td>\n",
       "      <td>PC 17599</td>\n",
       "      <td>71.2833</td>\n",
       "      <td>C85</td>\n",
       "      <td>True</td>\n",
       "      <td>False</td>\n",
       "      <td>True</td>\n",
       "      <td>False</td>\n",
       "      <td>False</td>\n",
       "      <td>True</td>\n",
       "      <td>False</td>\n",
       "      <td>False</td>\n",
       "    </tr>\n",
       "    <tr>\n",
       "      <th>2</th>\n",
       "      <td>3</td>\n",
       "      <td>1</td>\n",
       "      <td>Heikkinen, Miss. Laina</td>\n",
       "      <td>26.0</td>\n",
       "      <td>0</td>\n",
       "      <td>0</td>\n",
       "      <td>STON/O2. 3101282</td>\n",
       "      <td>7.9250</td>\n",
       "      <td>NaN</td>\n",
       "      <td>True</td>\n",
       "      <td>False</td>\n",
       "      <td>False</td>\n",
       "      <td>False</td>\n",
       "      <td>True</td>\n",
       "      <td>False</td>\n",
       "      <td>False</td>\n",
       "      <td>True</td>\n",
       "    </tr>\n",
       "    <tr>\n",
       "      <th>3</th>\n",
       "      <td>4</td>\n",
       "      <td>1</td>\n",
       "      <td>Futrelle, Mrs. Jacques Heath (Lily May Peel)</td>\n",
       "      <td>35.0</td>\n",
       "      <td>1</td>\n",
       "      <td>0</td>\n",
       "      <td>113803</td>\n",
       "      <td>53.1000</td>\n",
       "      <td>C123</td>\n",
       "      <td>True</td>\n",
       "      <td>False</td>\n",
       "      <td>False</td>\n",
       "      <td>False</td>\n",
       "      <td>True</td>\n",
       "      <td>True</td>\n",
       "      <td>False</td>\n",
       "      <td>False</td>\n",
       "    </tr>\n",
       "    <tr>\n",
       "      <th>4</th>\n",
       "      <td>5</td>\n",
       "      <td>0</td>\n",
       "      <td>Allen, Mr. William Henry</td>\n",
       "      <td>35.0</td>\n",
       "      <td>0</td>\n",
       "      <td>0</td>\n",
       "      <td>373450</td>\n",
       "      <td>8.0500</td>\n",
       "      <td>NaN</td>\n",
       "      <td>False</td>\n",
       "      <td>True</td>\n",
       "      <td>False</td>\n",
       "      <td>False</td>\n",
       "      <td>True</td>\n",
       "      <td>False</td>\n",
       "      <td>False</td>\n",
       "      <td>True</td>\n",
       "    </tr>\n",
       "  </tbody>\n",
       "</table>\n",
       "</div>"
      ]
     },
     "execution_count": 7,
     "metadata": {},
     "output_type": "execute_result"
    }
   ],
   "execution_count": 7
  },
  {
   "metadata": {},
   "cell_type": "markdown",
   "source": [
    "### Eliminació de les columnes sense informació\n",
    "\n",
    "Hi ha algunes columnes que no aporten informació rellevant per a la predicció, com ara el nom del passatger o el número del bitllet. Les hem d'eliminar."
   ],
   "id": "f85428816e316096"
  },
  {
   "metadata": {
    "ExecuteTime": {
     "end_time": "2025-09-24T09:07:17.610347Z",
     "start_time": "2025-09-24T09:07:17.589037Z"
    }
   },
   "cell_type": "code",
   "source": "df = df.drop(columns=['PassengerId', 'Name', 'Ticket', 'Cabin'])",
   "id": "25897648be7990c5",
   "outputs": [
    {
     "data": {
      "text/plain": [
       "   Survived   Age  SibSp  Parch     Fare  Sex_female  Sex_male  Embarked_C  \\\n",
       "0         0  22.0      1      0   7.2500       False      True       False   \n",
       "1         1  38.0      1      0  71.2833        True     False        True   \n",
       "2         1  26.0      0      0   7.9250        True     False       False   \n",
       "3         1  35.0      1      0  53.1000        True     False       False   \n",
       "4         0  35.0      0      0   8.0500       False      True       False   \n",
       "\n",
       "   Embarked_Q  Embarked_S  Pclass_1  Pclass_2  Pclass_3  \n",
       "0       False        True     False     False      True  \n",
       "1       False       False      True     False     False  \n",
       "2       False        True     False     False      True  \n",
       "3       False        True      True     False     False  \n",
       "4       False        True     False     False      True  "
      ],
      "text/html": [
       "<div>\n",
       "<style scoped>\n",
       "    .dataframe tbody tr th:only-of-type {\n",
       "        vertical-align: middle;\n",
       "    }\n",
       "\n",
       "    .dataframe tbody tr th {\n",
       "        vertical-align: top;\n",
       "    }\n",
       "\n",
       "    .dataframe thead th {\n",
       "        text-align: right;\n",
       "    }\n",
       "</style>\n",
       "<table border=\"1\" class=\"dataframe\">\n",
       "  <thead>\n",
       "    <tr style=\"text-align: right;\">\n",
       "      <th></th>\n",
       "      <th>Survived</th>\n",
       "      <th>Age</th>\n",
       "      <th>SibSp</th>\n",
       "      <th>Parch</th>\n",
       "      <th>Fare</th>\n",
       "      <th>Sex_female</th>\n",
       "      <th>Sex_male</th>\n",
       "      <th>Embarked_C</th>\n",
       "      <th>Embarked_Q</th>\n",
       "      <th>Embarked_S</th>\n",
       "      <th>Pclass_1</th>\n",
       "      <th>Pclass_2</th>\n",
       "      <th>Pclass_3</th>\n",
       "    </tr>\n",
       "  </thead>\n",
       "  <tbody>\n",
       "    <tr>\n",
       "      <th>0</th>\n",
       "      <td>0</td>\n",
       "      <td>22.0</td>\n",
       "      <td>1</td>\n",
       "      <td>0</td>\n",
       "      <td>7.2500</td>\n",
       "      <td>False</td>\n",
       "      <td>True</td>\n",
       "      <td>False</td>\n",
       "      <td>False</td>\n",
       "      <td>True</td>\n",
       "      <td>False</td>\n",
       "      <td>False</td>\n",
       "      <td>True</td>\n",
       "    </tr>\n",
       "    <tr>\n",
       "      <th>1</th>\n",
       "      <td>1</td>\n",
       "      <td>38.0</td>\n",
       "      <td>1</td>\n",
       "      <td>0</td>\n",
       "      <td>71.2833</td>\n",
       "      <td>True</td>\n",
       "      <td>False</td>\n",
       "      <td>True</td>\n",
       "      <td>False</td>\n",
       "      <td>False</td>\n",
       "      <td>True</td>\n",
       "      <td>False</td>\n",
       "      <td>False</td>\n",
       "    </tr>\n",
       "    <tr>\n",
       "      <th>2</th>\n",
       "      <td>1</td>\n",
       "      <td>26.0</td>\n",
       "      <td>0</td>\n",
       "      <td>0</td>\n",
       "      <td>7.9250</td>\n",
       "      <td>True</td>\n",
       "      <td>False</td>\n",
       "      <td>False</td>\n",
       "      <td>False</td>\n",
       "      <td>True</td>\n",
       "      <td>False</td>\n",
       "      <td>False</td>\n",
       "      <td>True</td>\n",
       "    </tr>\n",
       "    <tr>\n",
       "      <th>3</th>\n",
       "      <td>1</td>\n",
       "      <td>35.0</td>\n",
       "      <td>1</td>\n",
       "      <td>0</td>\n",
       "      <td>53.1000</td>\n",
       "      <td>True</td>\n",
       "      <td>False</td>\n",
       "      <td>False</td>\n",
       "      <td>False</td>\n",
       "      <td>True</td>\n",
       "      <td>True</td>\n",
       "      <td>False</td>\n",
       "      <td>False</td>\n",
       "    </tr>\n",
       "    <tr>\n",
       "      <th>4</th>\n",
       "      <td>0</td>\n",
       "      <td>35.0</td>\n",
       "      <td>0</td>\n",
       "      <td>0</td>\n",
       "      <td>8.0500</td>\n",
       "      <td>False</td>\n",
       "      <td>True</td>\n",
       "      <td>False</td>\n",
       "      <td>False</td>\n",
       "      <td>True</td>\n",
       "      <td>False</td>\n",
       "      <td>False</td>\n",
       "      <td>True</td>\n",
       "    </tr>\n",
       "  </tbody>\n",
       "</table>\n",
       "</div>"
      ]
     },
     "execution_count": 8,
     "metadata": {},
     "output_type": "execute_result"
    }
   ],
   "execution_count": 8
  },
  {
   "metadata": {},
   "cell_type": "markdown",
   "source": [
    "### Normalitzam les dades\n",
    "\n",
    "Hem de normalitzar les dades per tal que totes les característiques tinguin la mateixa escala. Això és especialment important per a algorismes com el perceptró, que són sensibles a la magnitud de les característiques."
   ],
   "id": "8fc207eb2c3aa1be"
  },
  {
   "metadata": {
    "ExecuteTime": {
     "end_time": "2025-09-24T09:11:34.110457Z",
     "start_time": "2025-09-24T09:11:34.090020Z"
    }
   },
   "cell_type": "code",
   "source": [
    "scaler = StandardScaler()\n",
    "\n",
    "X = df.drop(columns=['Survived'])\n",
    "y = df['Survived']\n",
    "\n",
    "# Ajustar i transformar X\n",
    "X_scaled = scaler.fit_transform(X)"
   ],
   "id": "5c44435fa00147f9",
   "outputs": [],
   "execution_count": 9
  },
  {
   "metadata": {},
   "cell_type": "markdown",
   "source": [
    "### Tractament de valors NaN\n",
    "\n",
    "Els valors NaN els hem de tractar abans d'entrenar el model. Podem optar per eliminar les files amb valors NaN o bé imputar-los amb la mitjana, mediana o moda de la columna. Pandas ens ofereix diverses funcions per fer-ho. Per exemple, podem utilitzar ``fillna()`` per imputar valors, o ``dropna()`` per eliminar files amb valors NaN."
   ],
   "id": "122c880687254839"
  },
  {
   "metadata": {
    "ExecuteTime": {
     "end_time": "2025-09-24T09:20:51.965818Z",
     "start_time": "2025-09-24T09:20:51.953168Z"
    }
   },
   "cell_type": "code",
   "source": [
    "# print(df.isna().sum())\n",
    "\n",
    "df['Age'] = df['Age'].fillna(df['Age'].median())"
   ],
   "id": "d9cce64b0c80cb8e",
   "outputs": [],
   "execution_count": 11
  },
  {
   "metadata": {
    "ExecuteTime": {
     "end_time": "2025-09-24T09:52:30.469598Z",
     "start_time": "2025-09-24T09:52:30.443788Z"
    }
   },
   "cell_type": "code",
   "source": [
    "# Tractament de dades complet\n",
    "\n",
    "df = pd.read_csv('train.csv')\n",
    "\n",
    "# 1. Codificació de variables categòriques\n",
    "categoricals = ['Sex', 'Embarked', 'Pclass']\n",
    "df = pd.get_dummies(df, columns=categoricals, drop_first=True)\n",
    "\n",
    "# 2. Eliminació de columnes sense informació\n",
    "df = df.drop(columns=['PassengerId', 'Name', 'Ticket', 'Cabin'])\n",
    "\n",
    "# 3. Tractament de Nans\n",
    "# print(df.isna().sum())\n",
    "\n",
    "df['Age'] = df['Age'].fillna(df['Age'].median())\n",
    "\n",
    "# 4. Normalització\n",
    "X = df.drop(columns=['Survived'])\n",
    "y = df['Survived']\n",
    "\n",
    "scaler = StandardScaler()\n",
    "X_scaled = scaler.fit_transform(X)"
   ],
   "id": "54acc754bc420ba6",
   "outputs": [],
   "execution_count": 33
  },
  {
   "metadata": {},
   "cell_type": "markdown",
   "source": [
    "### Divisió del conjunt de dades\n",
    "\n",
    "Separarem les dades en un conjunt d'entrenament i un de validació. Això ens permetrà avaluar el rendiment del model en dades que no ha vist durant l'entrenament. S'utilitza la funció ``train_test_split()`` de ``sklearn.model_selection``."
   ],
   "id": "274ec24c5f7c94b1"
  },
  {
   "metadata": {
    "ExecuteTime": {
     "end_time": "2025-09-24T09:52:32.534937Z",
     "start_time": "2025-09-24T09:52:32.523041Z"
    }
   },
   "cell_type": "code",
   "source": "X_train, X_test, y_train, y_test = train_test_split(X_scaled, y, test_size=0.2, random_state=0)",
   "id": "72bb13186a72271d",
   "outputs": [],
   "execution_count": 34
  },
  {
   "metadata": {},
   "cell_type": "markdown",
   "source": [
    "## Entrenament i avaluació del model\n",
    "\n",
    "Hem d'entrenar el perceptró amb les dades d'entrenament i després avaluar-lo amb les dades de validació. Hem de fer dos entrenaments, un amb la nostra implementació i un altre amb la de ``scikit-learn``. Per emprar la de ``scikit-learn``, utilitzarem la classe ``Perceptron`` de ``sklearn.linear_model``."
   ],
   "id": "8fa684e60de94a7c"
  },
  {
   "metadata": {
    "ExecuteTime": {
     "end_time": "2025-09-24T09:52:43.729617Z",
     "start_time": "2025-09-24T09:52:43.617115Z"
    }
   },
   "cell_type": "code",
   "source": [
    "model = Perceptron(max_iter=1000, tol=1e-3, random_state=42)\n",
    "meu_model = PerceptronP(eta=0.01, n_iter=10)\n",
    "\n",
    "y_train_perceptron = y_train.replace(0, -1)\n",
    "y_test_perceptron = y_test.replace(0, -1)\n",
    "\n",
    "model.fit(X_train, y_train)\n",
    "meu_model.fit(X_train, y_train_perceptron)\n",
    "\n",
    "y_pred = model.predict(X_test)\n",
    "meu_y_pred = meu_model.predict(X_test)\n",
    "\n",
    "meu_y_pred_corrected = np.where(meu_y_pred == -1, 0, 1)\n",
    "\n",
    "accuracy = model.score(X_test, y_test)\n",
    "print(f\"Accuracy: {accuracy: .4f}\")\n",
    "\n",
    "accuracy_my = (meu_y_pred_corrected == y_test).mean()\n",
    "print(f\"Accuracy meu perceptró: {accuracy_my:.4f}\")"
   ],
   "id": "99a1512fca79de3d",
   "outputs": [
    {
     "name": "stdout",
     "output_type": "stream",
     "text": [
      "Accuracy:  0.7430\n",
      "Accuracy meu perceptró: 0.7263\n"
     ]
    }
   ],
   "execution_count": 35
  }
 ],
 "metadata": {
  "kernelspec": {
   "display_name": "Python 3",
   "language": "python",
   "name": "python3"
  },
  "language_info": {
   "codemirror_mode": {
    "name": "ipython",
    "version": 2
   },
   "file_extension": ".py",
   "mimetype": "text/x-python",
   "name": "python",
   "nbconvert_exporter": "python",
   "pygments_lexer": "ipython2",
   "version": "2.7.6"
  }
 },
 "nbformat": 4,
 "nbformat_minor": 5
}
